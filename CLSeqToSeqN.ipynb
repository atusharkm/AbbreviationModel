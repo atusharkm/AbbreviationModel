{
  "nbformat": 4,
  "nbformat_minor": 0,
  "metadata": {
    "colab": {
      "name": "CLSeqToSeq.ipynb",
      "provenance": [],
      "collapsed_sections": [],
      "authorship_tag": "ABX9TyOnqgrXRAsVFjwIYmsIxnUA",
      "include_colab_link": true
    },
    "kernelspec": {
      "name": "python3",
      "display_name": "Python 3"
    },
    "language_info": {
      "name": "python"
    }
  },
  "cells": [
    {
      "cell_type": "markdown",
      "metadata": {
        "id": "view-in-github",
        "colab_type": "text"
      },
      "source": [
        "<a href=\"https://colab.research.google.com/github/atusharkm/AbbreviationModel/blob/main/CLSeqToSeqN.ipynb\" target=\"_parent\"><img src=\"https://colab.research.google.com/assets/colab-badge.svg\" alt=\"Open In Colab\"/></a>"
      ]
    },
    {
      "cell_type": "code",
      "metadata": {
        "id": "Btf3muwr6KfD"
      },
      "source": [
        "import numpy as np\n",
        "import tensorflow as tf\n",
        "from tensorflow import keras"
      ],
      "execution_count": 1,
      "outputs": []
    },
    {
      "cell_type": "code",
      "metadata": {
        "id": "LPanGzwV64fF"
      },
      "source": [
        "batch_size = 20  # Batch size for training.\n",
        "epochs = 25  # Number of epochs to train for.\n",
        "latent_dim = 256  # Latent dimensionality of the encoding space.\n",
        "num_samples = 10000  # Number of samples to train on.\n",
        "# Path to the data txt file on disk.\n",
        "data_path = \"TrainG.txt\""
      ],
      "execution_count": 13,
      "outputs": []
    },
    {
      "cell_type": "code",
      "metadata": {
        "colab": {
          "base_uri": "https://localhost:8080/",
          "height": 229
        },
        "id": "zMkxEf7U69TG",
        "outputId": "c338a5f1-cda5-4998-ff2c-7923bb3deb96"
      },
      "source": [
        "# Vectorize the data.\n",
        "input_texts = []\n",
        "target_texts = []\n",
        "input_characters = set()\n",
        "target_characters = set()\n",
        "with open(data_path, \"r\", encoding=\"utf-8\") as f:\n",
        "    lines = f.read().split(\"\\n\")\n",
        "for line in lines[: min(num_samples, len(lines) - 1)]:\n",
        "    input_text, target_text= line.split(\"-\")\n",
        "    # We use \"tab\" as the \"start sequence\" character\n",
        "    # for the targets, and \"\\n\" as \"end sequence\" character.\n",
        "    target_text = \"\\t\" + target_text + \"\\n\"\n",
        "    input_texts.append(input_text)\n",
        "    target_texts.append(target_text)\n",
        "    for char in input_text:\n",
        "        if char not in input_characters:\n",
        "            input_characters.add(char)\n",
        "    for char in target_text:\n",
        "        if char not in target_characters:\n",
        "            target_characters.add(char)\n",
        "\n",
        "input_characters = sorted(list(input_characters))\n",
        "target_characters = sorted(list(target_characters))\n",
        "num_encoder_tokens = len(input_characters)\n",
        "num_decoder_tokens = len(target_characters)\n",
        "max_encoder_seq_length = max([len(txt) for txt in input_texts])\n",
        "max_decoder_seq_length = max([len(txt) for txt in target_texts])\n",
        "\n",
        "print(\"Number of samples:\", len(input_texts))\n",
        "print(\"Number of unique input tokens:\", num_encoder_tokens)\n",
        "print(\"Number of unique output tokens:\", num_decoder_tokens)\n",
        "print(\"Max sequence length for inputs:\", max_encoder_seq_length)\n",
        "print(\"Max sequence length for outputs:\", max_decoder_seq_length)\n",
        "\n",
        "input_token_index = dict([(char, i) for i, char in enumerate(input_characters)])\n",
        "target_token_index = dict([(char, i) for i, char in enumerate(target_characters)])\n",
        "\n",
        "encoder_input_data = np.zeros(\n",
        "    (len(input_texts), max_encoder_seq_length, num_encoder_tokens), dtype=\"float32\"\n",
        ")\n",
        "decoder_input_data = np.zeros(\n",
        "    (len(input_texts), max_decoder_seq_length, num_decoder_tokens), dtype=\"float32\"\n",
        ")\n",
        "decoder_target_data = np.zeros(\n",
        "    (len(input_texts), max_decoder_seq_length, num_decoder_tokens), dtype=\"float32\"\n",
        ")\n",
        "\n",
        "for i, (input_text, target_text) in enumerate(zip(input_texts, target_texts)):\n",
        "    for t, char in enumerate(input_text):\n",
        "        encoder_input_data[i, t, input_token_index[char]] = 1.0\n",
        "    #encoder_input_data[i, t + 1 :, input_token_index[\" \"]] = 1.0\n",
        "    for t, char in enumerate(target_text):\n",
        "        # decoder_target_data is ahead of decoder_input_data by one timestep\n",
        "        decoder_input_data[i, t, target_token_index[char]] = 1.0\n",
        "        if t > 0:\n",
        "            # decoder_target_data will be ahead by one timestep\n",
        "            # and will not include the start character.\n",
        "            decoder_target_data[i, t - 1, target_token_index[char]] = 1.0\n",
        "    decoder_input_data[i, t + 1 :, target_token_index[\" \"]] = 1.0\n",
        "    decoder_target_data[i, t:, target_token_index[\" \"]] = 1.0"
      ],
      "execution_count": 15,
      "outputs": [
        {
          "output_type": "error",
          "ename": "ValueError",
          "evalue": "ignored",
          "traceback": [
            "\u001b[0;31m---------------------------------------------------------------------------\u001b[0m",
            "\u001b[0;31mValueError\u001b[0m                                Traceback (most recent call last)",
            "\u001b[0;32m<ipython-input-15-ebfc8388f5dc>\u001b[0m in \u001b[0;36m<module>\u001b[0;34m()\u001b[0m\n\u001b[1;32m      7\u001b[0m     \u001b[0mlines\u001b[0m \u001b[0;34m=\u001b[0m \u001b[0mf\u001b[0m\u001b[0;34m.\u001b[0m\u001b[0mread\u001b[0m\u001b[0;34m(\u001b[0m\u001b[0;34m)\u001b[0m\u001b[0;34m.\u001b[0m\u001b[0msplit\u001b[0m\u001b[0;34m(\u001b[0m\u001b[0;34m\"\\n\"\u001b[0m\u001b[0;34m)\u001b[0m\u001b[0;34m\u001b[0m\u001b[0;34m\u001b[0m\u001b[0m\n\u001b[1;32m      8\u001b[0m \u001b[0;32mfor\u001b[0m \u001b[0mline\u001b[0m \u001b[0;32min\u001b[0m \u001b[0mlines\u001b[0m\u001b[0;34m[\u001b[0m\u001b[0;34m:\u001b[0m \u001b[0mmin\u001b[0m\u001b[0;34m(\u001b[0m\u001b[0mnum_samples\u001b[0m\u001b[0;34m,\u001b[0m \u001b[0mlen\u001b[0m\u001b[0;34m(\u001b[0m\u001b[0mlines\u001b[0m\u001b[0;34m)\u001b[0m \u001b[0;34m-\u001b[0m \u001b[0;36m1\u001b[0m\u001b[0;34m)\u001b[0m\u001b[0;34m]\u001b[0m\u001b[0;34m:\u001b[0m\u001b[0;34m\u001b[0m\u001b[0;34m\u001b[0m\u001b[0m\n\u001b[0;32m----> 9\u001b[0;31m     \u001b[0minput_text\u001b[0m\u001b[0;34m,\u001b[0m \u001b[0mtarget_text\u001b[0m\u001b[0;34m=\u001b[0m \u001b[0mline\u001b[0m\u001b[0;34m.\u001b[0m\u001b[0msplit\u001b[0m\u001b[0;34m(\u001b[0m\u001b[0;34m\"-\"\u001b[0m\u001b[0;34m)\u001b[0m\u001b[0;34m\u001b[0m\u001b[0;34m\u001b[0m\u001b[0m\n\u001b[0m\u001b[1;32m     10\u001b[0m     \u001b[0;31m# We use \"tab\" as the \"start sequence\" character\u001b[0m\u001b[0;34m\u001b[0m\u001b[0;34m\u001b[0m\u001b[0;34m\u001b[0m\u001b[0m\n\u001b[1;32m     11\u001b[0m     \u001b[0;31m# for the targets, and \"\\n\" as \"end sequence\" character.\u001b[0m\u001b[0;34m\u001b[0m\u001b[0;34m\u001b[0m\u001b[0;34m\u001b[0m\u001b[0m\n",
            "\u001b[0;31mValueError\u001b[0m: too many values to unpack (expected 2)"
          ]
        }
      ]
    },
    {
      "cell_type": "code",
      "metadata": {
        "id": "qXLRqePa8Ezm"
      },
      "source": [
        "# Define an input sequence and process it.\n",
        "encoder_inputs = keras.Input(shape=(None, num_encoder_tokens))\n",
        "encoder = keras.layers.LSTM(latent_dim, return_state=True)\n",
        "encoder_outputs, state_h, state_c = encoder(encoder_inputs)\n",
        "\n",
        "# We discard `encoder_outputs` and only keep the states.\n",
        "encoder_states = [state_h, state_c]\n",
        "\n",
        "# Set up the decoder, using `encoder_states` as initial state.\n",
        "decoder_inputs = keras.Input(shape=(None, num_decoder_tokens))\n",
        "\n",
        "# We set up our decoder to return full output sequences,\n",
        "# and to return internal states as well. We don't use the\n",
        "# return states in the training model, but we will use them in inference.\n",
        "decoder_lstm = keras.layers.LSTM(latent_dim, return_sequences=True, return_state=True)\n",
        "decoder_outputs, _, _ = decoder_lstm(decoder_inputs, initial_state=encoder_states)\n",
        "decoder_dense = keras.layers.Dense(num_decoder_tokens, activation=\"softmax\")\n",
        "decoder_outputs = decoder_dense(decoder_outputs)\n",
        "\n",
        "# Define the model that will turn\n",
        "# `encoder_input_data` & `decoder_input_data` into `decoder_target_data`\n",
        "model = keras.Model([encoder_inputs, decoder_inputs], decoder_outputs)"
      ],
      "execution_count": 4,
      "outputs": []
    },
    {
      "cell_type": "code",
      "metadata": {
        "colab": {
          "base_uri": "https://localhost:8080/"
        },
        "id": "PvQqQMnB6-W3",
        "outputId": "29a8e131-f6a2-4253-efc7-19bdcb4f8ec7"
      },
      "source": [
        "model.compile(\n",
        "    optimizer=\"adam\", loss=\"categorical_crossentropy\", metrics=[\"accuracy\"]\n",
        ")\n",
        "model.fit(\n",
        "    [encoder_input_data, decoder_input_data],\n",
        "    decoder_target_data,\n",
        "    batch_size=batch_size,\n",
        "    epochs=epochs,\n",
        "    validation_split=0.2,\n",
        ")\n",
        "# Save model\n",
        "model.save(\"s2sv00\")"
      ],
      "execution_count": 9,
      "outputs": [
        {
          "output_type": "stream",
          "text": [
            "Epoch 1/50\n",
            "2/2 [==============================] - 5s 910ms/step - loss: 1.4541 - accuracy: 0.5134 - val_loss: 2.3867 - val_accuracy: 0.2810\n",
            "Epoch 2/50\n",
            "2/2 [==============================] - 0s 98ms/step - loss: 1.4248 - accuracy: 0.5294 - val_loss: 2.6122 - val_accuracy: 0.3203\n",
            "Epoch 3/50\n",
            "2/2 [==============================] - 0s 96ms/step - loss: 1.3899 - accuracy: 0.5241 - val_loss: 2.7734 - val_accuracy: 0.2810\n",
            "Epoch 4/50\n",
            "2/2 [==============================] - 0s 100ms/step - loss: 1.3238 - accuracy: 0.5169 - val_loss: 2.5284 - val_accuracy: 0.3333\n",
            "Epoch 5/50\n",
            "2/2 [==============================] - 0s 98ms/step - loss: 1.2586 - accuracy: 0.5971 - val_loss: 2.5259 - val_accuracy: 0.2745\n",
            "Epoch 6/50\n",
            "2/2 [==============================] - 0s 97ms/step - loss: 1.2240 - accuracy: 0.5775 - val_loss: 2.5585 - val_accuracy: 0.2941\n",
            "Epoch 7/50\n",
            "2/2 [==============================] - 0s 101ms/step - loss: 1.1411 - accuracy: 0.6150 - val_loss: 2.5775 - val_accuracy: 0.4052\n",
            "Epoch 8/50\n",
            "2/2 [==============================] - 0s 95ms/step - loss: 1.0734 - accuracy: 0.6417 - val_loss: 2.8417 - val_accuracy: 0.3203\n",
            "Epoch 9/50\n",
            "2/2 [==============================] - 0s 110ms/step - loss: 1.0686 - accuracy: 0.6096 - val_loss: 2.6783 - val_accuracy: 0.3660\n",
            "Epoch 10/50\n",
            "2/2 [==============================] - 0s 100ms/step - loss: 0.9720 - accuracy: 0.6381 - val_loss: 2.8187 - val_accuracy: 0.3399\n",
            "Epoch 11/50\n",
            "2/2 [==============================] - 0s 104ms/step - loss: 0.9180 - accuracy: 0.6774 - val_loss: 2.8148 - val_accuracy: 0.4248\n",
            "Epoch 12/50\n",
            "2/2 [==============================] - 0s 101ms/step - loss: 0.9142 - accuracy: 0.6809 - val_loss: 2.8651 - val_accuracy: 0.4314\n",
            "Epoch 13/50\n",
            "2/2 [==============================] - 0s 103ms/step - loss: 0.8399 - accuracy: 0.7237 - val_loss: 2.9646 - val_accuracy: 0.3922\n",
            "Epoch 14/50\n",
            "2/2 [==============================] - 0s 100ms/step - loss: 0.7877 - accuracy: 0.7433 - val_loss: 3.2436 - val_accuracy: 0.3856\n",
            "Epoch 15/50\n",
            "2/2 [==============================] - 0s 104ms/step - loss: 0.7631 - accuracy: 0.7308 - val_loss: 3.1605 - val_accuracy: 0.4510\n",
            "Epoch 16/50\n",
            "2/2 [==============================] - 0s 99ms/step - loss: 0.7298 - accuracy: 0.7683 - val_loss: 3.2506 - val_accuracy: 0.4118\n",
            "Epoch 17/50\n",
            "2/2 [==============================] - 0s 104ms/step - loss: 0.6826 - accuracy: 0.7825 - val_loss: 3.2249 - val_accuracy: 0.4902\n",
            "Epoch 18/50\n",
            "2/2 [==============================] - 0s 103ms/step - loss: 0.6438 - accuracy: 0.8057 - val_loss: 3.3941 - val_accuracy: 0.4771\n",
            "Epoch 19/50\n",
            "2/2 [==============================] - 0s 104ms/step - loss: 0.6093 - accuracy: 0.8039 - val_loss: 3.5932 - val_accuracy: 0.5033\n",
            "Epoch 20/50\n",
            "2/2 [==============================] - 0s 106ms/step - loss: 0.5740 - accuracy: 0.8520 - val_loss: 3.7626 - val_accuracy: 0.5229\n",
            "Epoch 21/50\n",
            "2/2 [==============================] - 0s 107ms/step - loss: 0.5454 - accuracy: 0.8734 - val_loss: 3.9240 - val_accuracy: 0.5098\n",
            "Epoch 22/50\n",
            "2/2 [==============================] - 0s 105ms/step - loss: 0.5143 - accuracy: 0.8895 - val_loss: 3.9746 - val_accuracy: 0.5359\n",
            "Epoch 23/50\n",
            "2/2 [==============================] - 0s 101ms/step - loss: 0.4922 - accuracy: 0.8877 - val_loss: 4.1673 - val_accuracy: 0.5294\n",
            "Epoch 24/50\n",
            "2/2 [==============================] - 0s 109ms/step - loss: 0.4569 - accuracy: 0.8877 - val_loss: 4.3448 - val_accuracy: 0.5556\n",
            "Epoch 25/50\n",
            "2/2 [==============================] - 0s 111ms/step - loss: 0.4348 - accuracy: 0.8948 - val_loss: 4.4397 - val_accuracy: 0.5556\n",
            "Epoch 26/50\n",
            "2/2 [==============================] - 0s 109ms/step - loss: 0.4056 - accuracy: 0.9358 - val_loss: 4.5414 - val_accuracy: 0.5425\n",
            "Epoch 27/50\n",
            "2/2 [==============================] - 0s 111ms/step - loss: 0.3878 - accuracy: 0.9305 - val_loss: 4.6265 - val_accuracy: 0.5752\n",
            "Epoch 28/50\n",
            "2/2 [==============================] - 0s 107ms/step - loss: 0.3906 - accuracy: 0.9234 - val_loss: 4.9797 - val_accuracy: 0.5033\n",
            "Epoch 29/50\n",
            "2/2 [==============================] - 0s 100ms/step - loss: 0.3741 - accuracy: 0.9127 - val_loss: 4.7548 - val_accuracy: 0.5556\n",
            "Epoch 30/50\n",
            "2/2 [==============================] - 0s 111ms/step - loss: 0.5280 - accuracy: 0.8627 - val_loss: 4.7160 - val_accuracy: 0.5163\n",
            "Epoch 31/50\n",
            "2/2 [==============================] - 0s 102ms/step - loss: 0.7675 - accuracy: 0.8128 - val_loss: 4.5729 - val_accuracy: 0.4248\n",
            "Epoch 32/50\n",
            "2/2 [==============================] - 0s 115ms/step - loss: 0.8848 - accuracy: 0.7629 - val_loss: 4.5079 - val_accuracy: 0.4510\n",
            "Epoch 33/50\n",
            "2/2 [==============================] - 0s 105ms/step - loss: 0.7775 - accuracy: 0.8182 - val_loss: 4.4009 - val_accuracy: 0.4771\n",
            "Epoch 34/50\n",
            "2/2 [==============================] - 0s 104ms/step - loss: 0.6980 - accuracy: 0.8342 - val_loss: 4.2896 - val_accuracy: 0.4902\n",
            "Epoch 35/50\n",
            "2/2 [==============================] - 0s 102ms/step - loss: 0.6772 - accuracy: 0.8111 - val_loss: 4.1442 - val_accuracy: 0.4771\n",
            "Epoch 36/50\n",
            "2/2 [==============================] - 0s 112ms/step - loss: 0.6163 - accuracy: 0.8128 - val_loss: 4.0314 - val_accuracy: 0.4575\n",
            "Epoch 37/50\n",
            "2/2 [==============================] - 0s 98ms/step - loss: 0.5769 - accuracy: 0.8414 - val_loss: 3.9442 - val_accuracy: 0.4837\n",
            "Epoch 38/50\n",
            "2/2 [==============================] - 0s 104ms/step - loss: 0.5472 - accuracy: 0.8681 - val_loss: 3.8901 - val_accuracy: 0.5163\n",
            "Epoch 39/50\n",
            "2/2 [==============================] - 0s 101ms/step - loss: 0.5139 - accuracy: 0.8663 - val_loss: 3.9230 - val_accuracy: 0.5294\n",
            "Epoch 40/50\n",
            "2/2 [==============================] - 0s 98ms/step - loss: 0.4896 - accuracy: 0.8788 - val_loss: 4.0081 - val_accuracy: 0.5294\n",
            "Epoch 41/50\n",
            "2/2 [==============================] - 0s 111ms/step - loss: 0.4678 - accuracy: 0.8913 - val_loss: 4.0495 - val_accuracy: 0.5556\n",
            "Epoch 42/50\n",
            "2/2 [==============================] - 0s 99ms/step - loss: 0.4441 - accuracy: 0.9091 - val_loss: 4.0619 - val_accuracy: 0.5490\n",
            "Epoch 43/50\n",
            "2/2 [==============================] - 0s 109ms/step - loss: 0.4202 - accuracy: 0.9216 - val_loss: 4.0471 - val_accuracy: 0.5359\n",
            "Epoch 44/50\n",
            "2/2 [==============================] - 0s 100ms/step - loss: 0.4020 - accuracy: 0.9340 - val_loss: 4.0535 - val_accuracy: 0.5752\n",
            "Epoch 45/50\n",
            "2/2 [==============================] - 0s 115ms/step - loss: 0.3856 - accuracy: 0.9501 - val_loss: 4.0948 - val_accuracy: 0.5752\n",
            "Epoch 46/50\n",
            "2/2 [==============================] - 0s 109ms/step - loss: 0.3692 - accuracy: 0.9447 - val_loss: 4.1493 - val_accuracy: 0.5752\n",
            "Epoch 47/50\n",
            "2/2 [==============================] - 0s 105ms/step - loss: 0.3543 - accuracy: 0.9447 - val_loss: 4.1868 - val_accuracy: 0.5752\n",
            "Epoch 48/50\n",
            "2/2 [==============================] - 0s 103ms/step - loss: 0.3391 - accuracy: 0.9412 - val_loss: 4.2411 - val_accuracy: 0.5752\n",
            "Epoch 49/50\n",
            "2/2 [==============================] - 0s 102ms/step - loss: 0.3233 - accuracy: 0.9590 - val_loss: 4.2919 - val_accuracy: 0.5752\n",
            "Epoch 50/50\n",
            "2/2 [==============================] - 0s 105ms/step - loss: 0.3097 - accuracy: 0.9715 - val_loss: 4.3247 - val_accuracy: 0.5752\n"
          ],
          "name": "stdout"
        },
        {
          "output_type": "stream",
          "text": [
            "WARNING:absl:Found untraced functions such as lstm_cell_2_layer_call_fn, lstm_cell_2_layer_call_and_return_conditional_losses, lstm_cell_3_layer_call_fn, lstm_cell_3_layer_call_and_return_conditional_losses, lstm_cell_2_layer_call_fn while saving (showing 5 of 10). These functions will not be directly callable after loading.\n"
          ],
          "name": "stderr"
        },
        {
          "output_type": "stream",
          "text": [
            "INFO:tensorflow:Assets written to: s2sv00/assets\n"
          ],
          "name": "stdout"
        },
        {
          "output_type": "stream",
          "text": [
            "INFO:tensorflow:Assets written to: s2sv00/assets\n"
          ],
          "name": "stderr"
        }
      ]
    },
    {
      "cell_type": "code",
      "metadata": {
        "id": "KPl9OQJH6_Jc"
      },
      "source": [
        "# Define sampling models\n",
        "# Restore the model and construct the encoder and decoder.\n",
        "model = keras.models.load_model(\"s2sv00\")\n",
        "\n",
        "encoder_inputs = model.input[0]  # input_1\n",
        "encoder_outputs, state_h_enc, state_c_enc = model.layers[2].output  # lstm_1\n",
        "encoder_states = [state_h_enc, state_c_enc]\n",
        "encoder_model = keras.Model(encoder_inputs, encoder_states)\n",
        "\n",
        "decoder_inputs = model.input[1]  # input_2\n",
        "decoder_state_input_h = keras.Input(shape=(latent_dim,), name=\"input_3\")\n",
        "decoder_state_input_c = keras.Input(shape=(latent_dim,), name=\"input_4\")\n",
        "decoder_states_inputs = [decoder_state_input_h, decoder_state_input_c]\n",
        "decoder_lstm = model.layers[3]\n",
        "decoder_outputs, state_h_dec, state_c_dec = decoder_lstm(\n",
        "    decoder_inputs, initial_state=decoder_states_inputs\n",
        ")\n",
        "decoder_states = [state_h_dec, state_c_dec]\n",
        "decoder_dense = model.layers[4]\n",
        "decoder_outputs = decoder_dense(decoder_outputs)\n",
        "decoder_model = keras.Model(\n",
        "    [decoder_inputs] + decoder_states_inputs, [decoder_outputs] + decoder_states\n",
        ")\n",
        "\n",
        "# Reverse-lookup token index to decode sequences back to\n",
        "# something readable.\n",
        "reverse_input_char_index = dict((i, char) for char, i in input_token_index.items())\n",
        "reverse_target_char_index = dict((i, char) for char, i in target_token_index.items())\n",
        "\n",
        "\n",
        "def decode_sequence(input_seq):\n",
        "    # Encode the input as state vectors.\n",
        "    states_value = encoder_model.predict(input_seq)\n",
        "\n",
        "    # Generate empty target sequence of length 1.\n",
        "    target_seq = np.zeros((1, 1, num_decoder_tokens))\n",
        "    # Populate the first character of target sequence with the start character.\n",
        "    target_seq[0, 0, target_token_index[\"\\t\"]] = 1.0\n",
        "\n",
        "    # Sampling loop for a batch of sequences\n",
        "    # (to simplify, here we assume a batch of size 1).\n",
        "    stop_condition = False\n",
        "    decoded_sentence = \"\"\n",
        "    while not stop_condition:\n",
        "        output_tokens, h, c = decoder_model.predict([target_seq] + states_value)\n",
        "\n",
        "        # Sample a token\n",
        "        sampled_token_index = np.argmax(output_tokens[0, -1, :])\n",
        "        sampled_char = reverse_target_char_index[sampled_token_index]\n",
        "        decoded_sentence += sampled_char\n",
        "\n",
        "        # Exit condition: either hit max length\n",
        "        # or find stop character.\n",
        "        if sampled_char == \"\\n\" or len(decoded_sentence) > max_decoder_seq_length:\n",
        "            stop_condition = True\n",
        "\n",
        "        # Update the target sequence (of length 1).\n",
        "        target_seq = np.zeros((1, 1, num_decoder_tokens))\n",
        "        target_seq[0, 0, sampled_token_index] = 1.0\n",
        "\n",
        "        # Update states\n",
        "        states_value = [h, c]\n",
        "    return decoded_sentence"
      ],
      "execution_count": 10,
      "outputs": []
    },
    {
      "cell_type": "code",
      "metadata": {
        "colab": {
          "base_uri": "https://localhost:8080/"
        },
        "id": "PD1PLBx4Rb6v",
        "outputId": "ecf8a14d-5436-4f6a-d00c-ccd9e0bdeb32"
      },
      "source": [
        "for seq_index in range(30,42):\n",
        "    # Take one sequence (part of the training set)\n",
        "    # for trying out decoding.\n",
        "    input_seq = encoder_input_data[seq_index : seq_index + 1]\n",
        "    decoded_sentence = decode_sequence(input_seq)\n",
        "    print(\"-\")\n",
        "    print(\"Input sentence:\", input_texts[seq_index])\n",
        "    print(\"Decoded sentence:\", decoded_sentence)"
      ],
      "execution_count": 12,
      "outputs": [
        {
          "output_type": "stream",
          "text": [
            "-\n",
            "Input sentence: postladrss\n",
            "Decoded sentence: postal  ddress\n",
            "\n",
            "-\n",
            "Input sentence: postaadrss\n",
            "Decoded sentence: postal  ddress\n",
            "\n",
            "-\n",
            "Input sentence: pstaladrss\n",
            "Decoded sentence: postal  ddress\n",
            "\n",
            "-\n",
            "Input sentence: pstladdrs\n",
            "Decoded sentence: postal  ddress\n",
            "\n",
            "-\n",
            "Input sentence: postladdrs\n",
            "Decoded sentence: postal  ddress\n",
            "\n",
            "-\n",
            "Input sentence: postaaddrs\n",
            "Decoded sentence: postal  ddress\n",
            "\n",
            "-\n",
            "Input sentence: pstaladdrs\n",
            "Decoded sentence: postal  ddress\n",
            "\n",
            "-\n",
            "Input sentence: infrmtn\n",
            "Decoded sentence: aaddress\n",
            "\n",
            "-\n",
            "Input sentence: infrmtion\n",
            "Decoded sentence: aaddress\n",
            "\n",
            "-\n",
            "Input sentence: infrmtin\n",
            "Decoded sentence: aaddress\n",
            "\n",
            "-\n",
            "Input sentence: informtn\n",
            "Decoded sentence: aaddress\n",
            "\n",
            "-\n",
            "Input sentence: new info\n",
            "Decoded sentence: aaaddress\n",
            "\n"
          ],
          "name": "stdout"
        }
      ]
    },
    {
      "cell_type": "code",
      "metadata": {
        "id": "oGb6OCqZRrCP"
      },
      "source": [
        ""
      ],
      "execution_count": null,
      "outputs": []
    }
  ]
}